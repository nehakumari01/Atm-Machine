{
  "cells": [
    {
      "cell_type": "code",
      "execution_count": null,
      "metadata": {
        "colab": {
          "background_save": true
        },
        "id": "TNuBXgN7U33I"
      },
      "outputs": [],
      "source": [
        "#for stopping program execution for some time\n",
        "print(\"WEL COME TO GYAN VIHAR ATM\")\n",
        "\n",
        "import time\n",
        "time.sleep(3)\n",
        "\n",
        "\n",
        "import time\n",
        "print(\"Please insert Your CARD\")\n",
        "\n",
        "#for card processing\n",
        "time.sleep(2)\n",
        "\n",
        "password = 1234\n",
        "\n",
        "#taking atm pin from user\n",
        "pin = int(input(\"enter your atm pin \"))\n",
        "\n",
        "#user account balance\n",
        "balance = 5000\n",
        "\n",
        "#checking pin is valid or not \n",
        "if pin == password:\n",
        "    #loop will run user get free \n",
        "    while True:\n",
        "\n",
        "        #Showing  info to user\n",
        "\n",
        "        print(\"\"\" \n",
        "\t\t\t1 == balance\n",
        "\t\t\t2 == withdraw balance\n",
        "\t\t\t3 == deposit balance\n",
        "\t\t\t4 == exit\n",
        "\t\t\t\"\"\"\n",
        "              )\n",
        "\n",
        "        try:    \n",
        "             #taking an option from user\n",
        "            option = int(input(\"Please enter your choise \"))\n",
        "        except:\n",
        "            print(\"Please enter valid option\")\n",
        "        \n",
        "        #for option 1        \n",
        "        if option == 1:\n",
        "            print(f\"Your current balance is {balance}\")\n",
        "                                     \n",
        "        if option == 2:\n",
        "\n",
        "            withdraw_amount = int(input(\"please enter withdraw_amount \"))\n",
        "\n",
        "            \n",
        "\n",
        "            balance = balance - withdraw_amount\n",
        "\n",
        "            print(f\"{withdraw_amount} is debited from your account\")\n",
        "\n",
        "            \n",
        "\n",
        "            print(f\"your updated balance is {balance}\")\n",
        "\n",
        "            \n",
        "\n",
        "        if option == 3:\n",
        "\n",
        "            deposit_amount = int(input(\"please enter deposit_amount\"))\n",
        "\n",
        "            balance = balance + deposit_amount\n",
        "\n",
        "            \n",
        "\n",
        "            print(f\"{deposit_amount} is credited to your account\")\n",
        "\n",
        "\n",
        "\n",
        "            print(f\"your updated balance is {balance}\")\n",
        "\n",
        "\n",
        "\n",
        "        if option == 4:\n",
        "\n",
        "            break\n",
        "\n",
        "\n",
        "else:\n",
        "    print(\"wrong pin Please try again\")"
      ]
    },
    {
      "cell_type": "markdown",
      "metadata": {
        "id": "FTOXGO7xlmjT"
      },
      "source": [
        ""
      ]
    }
  ],
  "metadata": {
    "colab": {
      "collapsed_sections": [],
      "name": "atm machine.ipynb",
      "provenance": []
    },
    "kernelspec": {
      "display_name": "Python 3",
      "name": "python3"
    },
    "language_info": {
      "name": "python"
    }
  },
  "nbformat": 4,
  "nbformat_minor": 0
}